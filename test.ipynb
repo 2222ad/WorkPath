{
 "cells": [
  {
   "cell_type": "code",
   "execution_count": 7,
   "metadata": {},
   "outputs": [],
   "source": [
    "import multiprocessing\n",
    "import time\n",
    "import os\n",
    "\n",
    "def fun1(num):\n",
    "    print('1进程PID', os.getpid())\n",
    "    print('1进程父进程编号', os.getppid())\n",
    "    for i in range(num):\n",
    "        print('1....\\n')\n",
    "        time.sleep(0.5)\n",
    "\n",
    "\n",
    "def fun2(num):\n",
    "    print('2进程PID', os.getpid())\n",
    "    print('2进程父进程编号', os.getppid())\n",
    "    for i in range(num):\n",
    "        print('2...')\n",
    "        time.sleep(0.5)\n",
    "\n"
   ]
  },
  {
   "cell_type": "code",
   "execution_count": 6,
   "metadata": {},
   "outputs": [],
   "source": [
    "sing_process = multiprocessing.Process(target=fun1, args=(5,))\n",
    "dance_process = multiprocessing.Process(target=fun2, kwargs={'num':2}) # target\n",
    "\n",
    "#3. 启动进程\n",
    "sing_process.start()\n",
    "dance_process.start()"
   ]
  }
 ],
 "metadata": {
  "kernelspec": {
   "display_name": "base",
   "language": "python",
   "name": "python3"
  },
  "language_info": {
   "codemirror_mode": {
    "name": "ipython",
    "version": 3
   },
   "file_extension": ".py",
   "mimetype": "text/x-python",
   "name": "python",
   "nbconvert_exporter": "python",
   "pygments_lexer": "ipython3",
   "version": "3.10.9"
  },
  "orig_nbformat": 4
 },
 "nbformat": 4,
 "nbformat_minor": 2
}
