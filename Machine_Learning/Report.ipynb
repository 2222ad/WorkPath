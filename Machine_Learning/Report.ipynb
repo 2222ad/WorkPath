{
 "cells": [
  {
   "cell_type": "markdown",
   "metadata": {},
   "source": [
    "## 机器学习课程作业\n",
    "### 1. 作业要求\n",
    "1．使用基于梯度下降的标准线性回归进行预测  \n",
    "   ·比较原始数据和不同特征缩放方法对梯度法的影响  \n",
    "   ·数据均值归一化，分析不同学习率α和初值对梯度法的影响  \n",
    "2.使用Lasso回归和岭回归进行预测  \n",
    "3.使用局部加权线性回归进行预测并分析k值对结果的影响  \n",
    "4.分析影响鲍鱼年龄的主要因素  \n",
    "5.比较以上4种回归方法的预测效果\n"
   ]
  },
  {
   "cell_type": "markdown",
   "metadata": {},
   "source": [
    "### 第一步读取数据"
   ]
  },
  {
   "cell_type": "code",
   "execution_count": null,
   "metadata": {},
   "outputs": [],
   "source": [
    "# 从http://archive.ics.uci.edu/dataset/1/abalone下载数据\n",
    "# 保存到本地文件abalone.data\n",
    "\n",
    "import urllib.request\n",
    "import os\n",
    "import pandas as pd\n",
    "import numpy as np\n",
    "import Regression as rd\n",
    "from sklearn.model_selection import KFold\n",
    "from sklearn.model_selection import train_test_split\n",
    "\n",
    "# 下载数据\n",
    "url = \"http://archive.ics.uci.edu/ml/machine-learning-databases/abalone/abalone.data\"\n",
    "filepath = \"abalone.data\"\n",
    "if not os.path.isfile(filepath):\n",
    "    result = urllib.request.urlretrieve(url, filepath)\n",
    "    print('downloaded:', result)\n",
    "else:\n",
    "    print('Data file already exists.')\n",
    "\n",
    "# 查看数据\n",
    "import pandas as pd\n",
    "df = pd.read_csv(filepath, header=None, prefix='V')\n",
    "# 修改df的列名\n",
    "df.columns =[ '性别','长度','直径','高度','整体重量','去壳重量','脏器重量','壳的重量','环数']"
   ]
  },
  {
   "cell_type": "markdown",
   "metadata": {},
   "source": [
    "### 进行简单的数据预处理"
   ]
  },
  {
   "cell_type": "code",
   "execution_count": null,
   "metadata": {},
   "outputs": [],
   "source": [
    "# 使用pandas将df除了性别列的数据进行标准化生成新的df_norm\n",
    "df_norm = df.iloc[:,1:8]\n",
    "df_norm = (df_norm - df_norm.mean())/df_norm.std()\n",
    "df_norm['性别']=df['性别']\n",
    "df_norm['环数']=df['环数']\n",
    "# df_norm.head()\n",
    "\n",
    "#此处决定是否要用标准化后的数据代替原始数据\n",
    "df=df_norm\n",
    "\n",
    "df['年龄']=df['环数']+1.5\n",
    "df['截距']=1\n",
    "# 使用OneHot对性别进行编码\n",
    "sex_onehot =pd.get_dummies(df['性别'],prefix='性别')\n",
    "df[sex_onehot.columns] = sex_onehot"
   ]
  },
  {
   "cell_type": "markdown",
   "metadata": {},
   "source": [
    "### 构建训练数据和测试数据"
   ]
  },
  {
   "cell_type": "code",
   "execution_count": null,
   "metadata": {},
   "outputs": [],
   "source": [
    "# 筛选特征\n",
    "y=df['环数']\n",
    "# 避免多重共线性，删除一列\n",
    "features=['长度','直径','高度','整体重量','去壳重量','脏器重量','壳的重量','截距','性别_F','性别_I']\n",
    "X=df[features]"
   ]
  },
  {
   "cell_type": "markdown",
   "metadata": {},
   "source": [
    "### 10折交叉验证，梯度下降方法"
   ]
  },
  {
   "cell_type": "code",
   "execution_count": null,
   "metadata": {},
   "outputs": [],
   "source": [
    "kf = KFold(n_splits=10,shuffle=True)\n",
    "thetas=[]\n",
    "errs=[]\n",
    "ks=[]\n",
    "test_errs=[]\n",
    "for train_index, test_index in kf.split(X):\n",
    "    X_train,X_test=X.iloc[train_index],X.iloc[test_index]\n",
    "    y_train,y_test=y.iloc[train_index],y.iloc[test_index]\n",
    "    # 使用线性回归模型\n",
    "    theta= np.zeros((X_train.shape[1], 1))\n",
    "    # theta= np.ones((X_train.shape[1], 1))\n",
    "    # theta= np.random.rand(X_train.shape[1], 1)\n",
    "\n",
    "    theta,error,k=rd.gradient_descent(X_train,y_train,alpha=0.1,theta=theta,iters=50000)\n",
    "    thetas.append(theta)\n",
    "    errs.append(error)\n",
    "    ks.append(k)\n",
    "    theta = np.array(theta).reshape(-1)\n",
    "    test_errs.append(rd.err_func(theta,X_test,y_test))\n",
    "\n",
    "# 选择最优的err,输出并保留7位小数\n",
    "\n",
    "theta=thetas[test_errs.index(min(test_errs))]\n",
    "print('最优theta:',theta)\n",
    "print('最优k:',ks[test_errs.index(min(test_errs))])\n",
    "print('最优测试集MES:{:.7f}'.format(min(test_errs)))\n",
    "print('测试集MES均值:{:.7f}'.format(np.mean(test_errs)))"
   ]
  },
  {
   "cell_type": "markdown",
   "metadata": {},
   "source": [
    "### 10折交叉验证，Lasso回归"
   ]
  },
  {
   "cell_type": "code",
   "execution_count": null,
   "metadata": {},
   "outputs": [],
   "source": [
    "Lasso_paras=[0.1]\n",
    "Lasso_paras=[10,5,2,1,0.5,0.1,0.05,0.01]\n",
    "exper_res_Lasso=pd.DataFrame(columns=['Lasso参数','最优迭代次数','最优测试集MES','测试集MES均值'])\n",
    "kf = KFold(n_splits=10,shuffle=True)\n",
    "for i in range(len(Lasso_paras)):\n",
    "\n",
    "    thetas=[]\n",
    "    errs=[]\n",
    "    ks=[]\n",
    "    test_errs=[]\n",
    "    for train_index, test_index in kf.split(X):\n",
    "        X_train,X_test=X.iloc[train_index],X.iloc[test_index]\n",
    "        y_train,y_test=y.iloc[train_index],y.iloc[test_index]\n",
    "\n",
    "        theta,error,k=rd.Lasso_regression(X_train,y_train,Lambda=Lasso_paras[i],iters=50000,threshold=0.01)\n",
    "        # print(\"迭代完毕\")\n",
    "        thetas.append(theta)\n",
    "        errs.append(error)\n",
    "        ks.append(k)\n",
    "        theta = np.array(theta).reshape(-1)\n",
    "        test_errs.append(rd.err_func(theta,X_test,y_test))\n",
    "\n",
    "    # 选择最优的err,输出并保留7位小数\n",
    "\n",
    "    exper_res_Lasso=exper_res_Lasso.append({'Lasso参数':Lasso_paras[i],'最优迭代次数':ks[test_errs.index(min(test_errs))],'最优测试集MES':min(test_errs),'测试集MES均值':np.mean(test_errs)},ignore_index=True)\n",
    "    theta=thetas[test_errs.index(min(test_errs))]\n",
    "    # print('最优theta:',theta)\n",
    "    # print('最优k:',ks[test_errs.index(min(test_errs))])\n",
    "    # print('最优测试集MES:{:.7f}'.format(min(test_errs)))\n",
    "    # print('测试集MES均值:{:.7f}'.format(np.mean(test_errs)))\n",
    "exper_res_Lasso.to_csv('exper_res_Lasso.csv',index=False)"
   ]
  },
  {
   "cell_type": "markdown",
   "metadata": {},
   "source": [
    "### 10折交叉验证，岭回归"
   ]
  },
  {
   "cell_type": "code",
   "execution_count": null,
   "metadata": {},
   "outputs": [],
   "source": [
    "Lambda_paras=[10,5,2,1,0.5,0.1,0.05,0.01,0.02,0.005]\n",
    "# Lambda_paras=[5]\n",
    "exper_res_Ridge=pd.DataFrame(columns=['岭回归参数','最优测试集MES','测试集MES均值'])\n",
    "kf = KFold(n_splits=10,shuffle=True)\n",
    "for i in range(len(Lambda_paras)):\n",
    "\n",
    "    thetas=[]\n",
    "    errs=[]\n",
    "    test_errs=[]\n",
    "    for train_index, test_index in kf.split(X):\n",
    "        X_train,X_test=X.iloc[train_index],X.iloc[test_index]\n",
    "        y_train,y_test=y.iloc[train_index],y.iloc[test_index]\n",
    "\n",
    "        theta,error=rd.Ridge(X_train,y_train,Lambda=Lambda_paras[i])\n",
    "        thetas.append(theta)\n",
    "        errs.append(error)\n",
    "        theta = np.array(theta).reshape(-1)\n",
    "        test_errs.append(rd.err_func(theta,X_test,y_test))\n",
    "\n",
    "    # 选择最优的err,输出并保留7位小数\n",
    "\n",
    "    exper_res_Ridge=exper_res_Ridge.append({'岭回归参数':Lambda_paras[i],'最优测试集MES':min(test_errs),'测试集MES均值':np.mean(test_errs)},ignore_index=True)\n",
    "    theta=thetas[test_errs.index(min(test_errs))]\n",
    "    print('最优theta:',theta)\n",
    "    print('最优测试集MES:{:.7f}'.format(min(test_errs)))\n",
    "    print('测试集MES均值:{:.7f}'.format(np.mean(test_errs)))\n",
    "# exper_res_Ridge.to_csv('exper_res_Ridge.csv',index=False)"
   ]
  },
  {
   "cell_type": "markdown",
   "metadata": {},
   "source": [
    "### 10折交叉验证，加权线性回归"
   ]
  },
  {
   "cell_type": "code",
   "execution_count": null,
   "metadata": {},
   "outputs": [],
   "source": [
    "K_paras=[2,1,0.5,0.2,0.1]\n",
    "exper_res_LWLR=pd.DataFrame(columns=['LWLR参数','最优测试集MES','测试集MES均值'])\n",
    "kf = KFold(n_splits=10,shuffle=True)\n",
    "for i in range(len(K_paras)):\n",
    "    # 计算不同k值下的误差\n",
    "    test_errs=[]\n",
    "    for train_index, test_index in kf.split(X):\n",
    "        X_train,X_test=X.iloc[train_index],X.iloc[test_index]\n",
    "        y_train,y_test=y.iloc[train_index],y.iloc[test_index]\n",
    "\n",
    "        #单独计算每个测试样例的误差\n",
    "        error_list=[]\n",
    "        for j in range(len(X_test)):\n",
    "            a=X_test.iloc[j,:]\n",
    "            np.mat(a).reshape(1,-1)\n",
    "            t=rd.LW_linear_Regression(a,X_train,y_train,k=K_paras[i])\n",
    "            if t==0:\n",
    "                continue\n",
    "            t=t[0,0]-y_test.iloc[j]\n",
    "            error_list.append(t**2)\n",
    "        \n",
    "        test_errs.append(np.mean(error_list)/2)\n",
    "    \n",
    "    exper_res_LWLR=exper_res_LWLR.append({'LWLR参数':K_paras[i],'最优测试集MES':min(test_errs),'测试集MES均值':np.mean(test_errs)},ignore_index=True)\n",
    "\n",
    "exper_res_LWLR.to_csv('exper_res_LWLR.csv',index=False)                "
   ]
  },
  {
   "cell_type": "code",
   "execution_count": null,
   "metadata": {},
   "outputs": [],
   "source": [
    "# 绘制一个横向的柱状图"
   ]
  }
 ],
 "metadata": {
  "kernelspec": {
   "display_name": "base",
   "language": "python",
   "name": "python3"
  },
  "language_info": {
   "codemirror_mode": {
    "name": "ipython",
    "version": 3
   },
   "file_extension": ".py",
   "mimetype": "text/x-python",
   "name": "python",
   "nbconvert_exporter": "python",
   "pygments_lexer": "ipython3",
   "version": "3.10.9"
  }
 },
 "nbformat": 4,
 "nbformat_minor": 2
}
